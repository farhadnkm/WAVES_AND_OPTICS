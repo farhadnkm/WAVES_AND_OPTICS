{
 "cells": [
  {
   "cell_type": "markdown",
   "metadata": {},
   "source": [
    "# Welcome to the <b>Waves and Optics</b> coding session\n",
    "\n",
    "## Starting off\n",
    "\n",
    "* Install Anaconda https://www.anaconda.com/\n",
    "* Check python installation -> <i>python --version</i>\n",
    "* Install git https://git-scm.com/downloads\n",
    "    - check git command in acanconda prompt -> <i>git --version</i>\n",
    "* Download repository -> <i>git clone https://github.com/farhadnkm/WAVES_AND_OPTICS.git</i>\n",
    "* Make a new environment and activate it -> <i>conda create --name myenv</i>\n",
    "* Install the requirements -> <i>pip install -r requirements.txt</i>\n",
    "* Run <i>test.py</i>\n",
    "\n",
    "### <span style=\"color:yellow\">Note:</span> Having VScode or an IDE on your machine is recommended\n",
    "\n",
    "VScode has an internal interpretor for jupyter.\n",
    "If VScode or any sort of IDE is not available:\n",
    "* To install VScode: https://code.visualstudio.com/download\n",
    "* Working without VScode\n",
    "    - install jupyter <i>conda install jupyter</i>\n",
    "    - in command prompt run -> <i>jupyter notebook</i>\n"
   ]
  },
  {
   "cell_type": "code",
   "execution_count": null,
   "metadata": {},
   "outputs": [],
   "source": [
    "# values and arrays\n",
    "# numpy arrays\n",
    "# loops - for, while\n",
    "# if statement\n",
    "# indexing\n",
    "# functions, directories and libraries"
   ]
  }
 ],
 "metadata": {
  "kernelspec": {
   "display_name": "Python 3 (ipykernel)",
   "language": "python",
   "name": "python3"
  },
  "language_info": {
   "codemirror_mode": {
    "name": "ipython",
    "version": 3
   },
   "file_extension": ".py",
   "mimetype": "text/x-python",
   "name": "python",
   "nbconvert_exporter": "python",
   "pygments_lexer": "ipython3",
   "version": "3.11.4"
  }
 },
 "nbformat": 4,
 "nbformat_minor": 2
}
