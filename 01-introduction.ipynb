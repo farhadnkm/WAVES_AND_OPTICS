{
 "cells": [
  {
   "cell_type": "markdown",
   "metadata": {},
   "source": [
    "# Welcome to the <b>Waves and Optics</b> coding class - Session 0\n",
    "\n",
    "In this notebook, we will have a short and simple recap about coding with python.\\\n",
    "We will skim through\n",
    "\n",
    "* git and github\n",
    "* Python and the course outlooks\n",
    "* missing in your background but important: datatypes\n",
    "\n",
    "Eventually, a test program is provided (<i>test.py</i>) to firstly, check your machine to be set up and ready, and secondly, to give you an insight by a simple example about the coding style and syntax of the programs that we are going to make .\n",
    "\n",
    "<span style=\"color:pink\">(this list may get longer in case new basic requirements are recognized)</span> "
   ]
  },
  {
   "cell_type": "markdown",
   "metadata": {},
   "source": [
    "## 1. What is git and github?\n",
    "<b>Git</b>, is a free and open-source version control and source code management system. Git is used to track changes in the source code, enabling multiple developers to work in prallel on the same software project. \\\n",
    "Using git for vesion control is not a requirement but particularly for large-scale projects requiring collaboration or significant upkeep, it is essencial.\\\n",
    "\\\n",
    "For more information, have a look at this short [YouTube video](https://www.youtube.com/watch?v=2ReR1YJrNOM).\n",
    "\\\n",
    "\\\n",
    "<b>[Github](https://github.com/)</b> on the other hand is a code hosting platform for version control and collaboration that uses git. Github is a cloud-based service which enables developers to manage, share, distribute, and publish source codes for colaborators, servers, or the public.\n",
    "\\\n",
    "\\\n",
    "We decided to distribute the source codes and tutorials of Waves and Optics course on github ([link](https://github.com/farhadnkm/WAVES_AND_OPTICS)) to be publicly accessable, and simple to share with other possible contributers in the future.\n"
   ]
  },
  {
   "cell_type": "markdown",
   "metadata": {},
   "source": [
    "## 2. A short word on Python\n",
    "Python is a high-level, general-purpose programming language. It is dynamically typed and garbage-collected. It supports multiple programming paradigms, including structured (particularly procedural), object-oriented and functional programming. It is often described as a \"batteries included\" language due to its comprehensive standard library.\n",
    "\\\n",
    "\\\n",
    "Knowing the basics of Python is considered as a requirement for this course. However, we will try to extend your knowledge of pragramming in performing numerical modeling and visualization using Python and specifically, Numpy."
   ]
  },
  {
   "cell_type": "markdown",
   "metadata": {},
   "source": [
    "## 3. DataTypes\n",
    "\n",
    "Although in Python the type of the variable is determined only during runtime, knowing datatypes is essencial to write computer simulations even in lamguage. You will learn more about that and will work with datatypes throughout the course.\n",
    "\n",
    "One important feature of datatypes is the size they occupy (in bytes) on memory which determines their precision and range.\n",
    "\n",
    "### DataTypes in Python\n",
    "Here, the important datatypes that we need to know are listed:\n",
    "\n",
    "* <b><span style=\"color:yellow\">Integer:</span></b> An integer is whole number that can be positive, negative, or zero. the datetype of an integer determines its valid range. \\\n",
    "<b>Ex.</b>:\n",
    "> a = 1 \\\n",
    "> b = 105 \\\n",
    "> c = -3456\n",
    "\n",
    "* <b><span style=\"color:yellow\">Float:</span></b> The float data types are used to store positive and negative numbers with a decimal point. the datetype of a float determines how many decimals are accurate. \\\n",
    "<b>Ex.</b>:\n",
    "> a = 35.0 \\\n",
    "> b = 6.1e-3 \\\n",
    "> c = -3597.34987\n",
    "* <b><span style=\"color:yellow\">Arrays:</span></b> \n",
    "    - <b><span style=\"color:pink\">String:</span></b> strings are alphanumeric characters and have values that are treated as text. \\\n",
    "    <b>Ex.</b>:\n",
    "    > a = \"abc123\"\\\n",
    "    > b = \"Hello World\"\\\n",
    "    > c = \"What is your name?\"\n",
    "    \n",
    "    - <b><span style=\"color:pink\">list/tuple:</span></b> List and Tuple in Python are the classes of Python Data Structures. The list is dynamic, whereas the tuple has static characteristics. \\\n",
    "    <b>Ex.</b>:\n",
    "    > a = ['a', 'b', 'c']\\\n",
    "    > b = (3, -7, 233)\\\n",
    "    > c = [1.0]\n",
    "\n",
    "    Here are some features of List and Tuple in Python:\n",
    "    | List | Tuple |\n",
    "    | :--: | :---: |\n",
    "    | It is mutable | It is immutable |\n",
    "    | The implication of iterations is time-consuming in the list | Implications of iterations are much faster in tuples |\n",
    "    | Operations like insertion and deletion are better performed | Elements can be accessed better |\n",
    "    | Consumes more memory | Consumes less memory |\n",
    "    \n",
    "    ([more about mutable/immutable objects](https://www.interviewcake.com/concept/java/mutable))\n",
    "\n",
    "### DataTypes in Numpy\n",
    "In numpy specifically, paying attention to datatypes is important since errors in declaring datatypes or being unaware of casting or changes of datatype may cause bugs or inaccurate results.\n",
    "\n",
    "Here is a list of common value types in Numpy:\n",
    " \n",
    "| in Numpy | C-equivalent | Size (bytes) | range/precision | Note |\n",
    "| :--: | :-: | :-: | :-: | :-: |\n",
    "| <span style=\"color:blue\">int</span> | int | 4 | 2^32 = 4294967296 |  dynamic format of intergers. The size is dynamic. |\n",
    "| int8 | byte | 1 | 2^8 = 256 | -128 <= a <= 127 |\n",
    "| int16 | short | 2 | 2^16 = 65536 | -32768 <= a <= 32767 |\n",
    "| int32 | int | 4 | 2^32 = 4294967296 | -2147483648 <= a <= 2147483647 |\n",
    "| int64 | long | 8 | 2^64 |  -2^63 <= a <= 2^63 - 1 |\n",
    "| int128 | long long | 16 | 2^128 | -2^127 <= a <= 2^127 - 1  |\n",
    "| <span style=\"color:green\">uint</span> | unsigned int | 4 | 2^32 = 4294967296 | dynamic format of unsigned intergers. (>=0) |\n",
    "| uint8 | unsigned byte | 1 | 2^8 | 0 <= a <= 255 |\n",
    "| uint16 | unsigned short | 2 | 2^16 | 0 <= a <= 65535 |\n",
    "| uint32 | unsigned int | 4 | 2^32 | 0 <= a <= 4294967296 |\n",
    "| uint64 | unsigned long | 8 | 2^64 | 0 <= a <= 2^64 - 1 |\n",
    "| uint128 | unsigned long long | 16 | 2^128 | 0 <= a <= 2^128 - 1 |\n",
    "| <span style=\"color:yellow\">float</span> | float | 8 | ~8 digits |  dynamic format of unsigned floats.|\n",
    "| float16 | half | 2 | ~4 digits |  |\n",
    "| float32 | float | 4 | ~8 digits |  |\n",
    "| float64 | double | 8 | ~16 digits |  |\n",
    "| float128 | long double | 16 | ~32 digits |  |\n",
    "| <span style=\"color:red\">complex32</span> | None | 4 | ~4 digits |  |\n",
    "| complex64 | None | 8 | ~8 digits |  |\n",
    "| complex128 | None | 16 | ~16 digits  |  |\n",
    "| complex256 | None | 32 | ~32 digits  |  |\n",
    "\n",
    "#### Notes:\n",
    "* the numbers that come after the datatype in numpy dtype syntax specify the number of bits that each corresponding value occupy on memmory. For instance, A float32 numpy array consisting of 100 values take 100*32= 3200 bits or 400 bytes of memmory and if it is stored on the drive without compression, it will be a binary file with the size of 400 bytes.\n",
    "\n",
    "* Dynamic types are datatypes which the compiler decides for their size. For example, the type int typically has a size of 4 bytes but may get bigger or smaller depending on the program.\n",
    "\n",
    "* Unsigned types can accepts twice the range of signed types for the same amount of bytes on memory but it's only positive.\n",
    "\n",
    "* Complex types are basically made of two floats for real and imaginary parts. complex64 -> (float32, float32).\n"
   ]
  },
  {
   "cell_type": "markdown",
   "metadata": {},
   "source": [
    "# Test program"
   ]
  },
  {
   "cell_type": "markdown",
   "metadata": {},
   "source": [
    "<b>Note:</b> in jupyter, <b>\"!\"</b> at the beginning of a statement, translates that statement to a commandline that runs on the command consule/terminal.\n",
    "For example you may install a python package right through a jupyter notebook by typing\n",
    ">!pip install PACKAGE_NAME\n",
    "\n",
    "\n",
    "### About test.py\n",
    "In this program estimates the value of Pi by random numbers. The proportion of the area of a cicle fits inside a square to the area of the square is pi/4. This relationship also holds for 1/4 of these shapes. Now the idea is if we generage a large number of points (N) with x and y values between 0 and 1 and count the number of those that fall inside the circle (N_s), then Ns/N ~= pi/4.\n",
    "Thus, pi ~= 4 * Ns/N. The larger the N gets, the higher the percision in estimating Pi will be.\n",
    "\n",
    "In the second section you will see a plot being drawn. This plot shows the histogram of the distance of the points to origin which shows the distribution of r=sqrt(x*x + y*y).\n",
    "\n",
    "In the last two experiments we try to use the same idea to calculate the area of some given shapes (a quarter circle, r=1, and a section of an angular section of a quarter circle) and draw their figures. The calculated areas are in fact the ratio of the occupied area to the area of the square. So the actual area is the calculater ratio times the area of the square."
   ]
  },
  {
   "cell_type": "code",
   "execution_count": null,
   "metadata": {},
   "outputs": [],
   "source": [
    "!python test.py"
   ]
  }
 ],
 "metadata": {
  "kernelspec": {
   "display_name": "Python 3 (ipykernel)",
   "language": "python",
   "name": "python3"
  },
  "language_info": {
   "codemirror_mode": {
    "name": "ipython",
    "version": 3
   },
   "file_extension": ".py",
   "mimetype": "text/x-python",
   "name": "python",
   "nbconvert_exporter": "python",
   "pygments_lexer": "ipython3",
   "version": "3.11.4"
  }
 },
 "nbformat": 4,
 "nbformat_minor": 2
}
