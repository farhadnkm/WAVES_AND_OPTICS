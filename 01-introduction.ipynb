{
 "cells": [
  {
   "cell_type": "markdown",
   "metadata": {},
   "source": [
    "# Welcome to the <b>Waves and Optics</b> coding session\n",
    "\n",
    "In this notebook, we will have a short and simple recap about coding with python.\\\n",
    "We will skim through\n",
    "* values and arrays\n",
    "* numpy arrays\n",
    "* loops: <i>for</i> and <i>while</i>\n",
    "* if statements\n",
    "* datatypes\n",
    "* indexing\n",
    "* functions, directories and libraries"
   ]
  },
  {
   "cell_type": "markdown",
   "metadata": {},
   "source": [
    "# DataTypes\n",
    "\n",
    "| Integers |   |   |   |   |   |   |\n",
    "| :------------: | :-: | :-: | :-: | :-: | :-: | :-: |\n",
    "| Numpy | int | int8 | int16 | int32 | int64 | int128 |\n",
    "| C | int | byte | short | int | long | long long |\n",
    "\n",
    "-------\n",
    "\n",
    "| unsigned Integers |   |   |   |   |   |   |\n",
    "| :------------: | :-: | :-: | :-: | :-: | :-: | :-: |\n",
    "| Numpy | uint | uint8 | uint16 | uint32 | uint64 | uint128 |\n",
    "| C | unsigned int | unsigned byte | unsigned short | unsigned int | unsigned long | unsigned long long |\n",
    "\n",
    "-------\n",
    "\n",
    "| floats |   |   |   |   |   |\n",
    "| :------------: | :-: | :-: | :-: | :-: | :-: |\n",
    "| Numpy | float | float16 | float32 | float64 | float128 |\n",
    "| C | float | half | float | double | long double |"
   ]
  }
 ],
 "metadata": {
  "kernelspec": {
   "display_name": "Python 3 (ipykernel)",
   "language": "python",
   "name": "python3"
  },
  "language_info": {
   "codemirror_mode": {
    "name": "ipython",
    "version": 3
   },
   "file_extension": ".py",
   "mimetype": "text/x-python",
   "name": "python",
   "nbconvert_exporter": "python",
   "pygments_lexer": "ipython3",
   "version": "3.11.4"
  }
 },
 "nbformat": 4,
 "nbformat_minor": 2
}
