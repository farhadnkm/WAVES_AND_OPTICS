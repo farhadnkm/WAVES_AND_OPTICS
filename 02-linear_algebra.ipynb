{
 "cells": [
  {
   "cell_type": "markdown",
   "metadata": {},
   "source": [
    "# Linear Algebra - Part 1\n",
    "In this section you will  \n",
    "* have a short review over numpy syntax for defining vectors, matrices, and tensors.\n",
    "* see few examples about performing mathematical operations in numpy.\n",
    "* learn how arrays are stuctrured in numpy and how indexing works.\n",
    "* learn how to define a coordinate system and get  familiar with the common array initialization functions in Python.\n",
    "* walk through some examples about simulating a vector field."
   ]
  },
  {
   "cell_type": "code",
   "execution_count": null,
   "metadata": {},
   "outputs": [],
   "source": [
    "# imports\n",
    "import numpy as np\n",
    "import matplotlib.pyplot as plt"
   ]
  },
  {
   "cell_type": "markdown",
   "metadata": {},
   "source": [
    "## Vectors, Matrices\n",
    "Defining vectors in numpy"
   ]
  },
  {
   "cell_type": "code",
   "execution_count": null,
   "metadata": {},
   "outputs": [],
   "source": [
    "# zeros, ones\n",
    "a = np.zeros((10), dtype=\"float64\")\n",
    "a = np.zeros((10), dtype=np.float32)\n",
    "b = np.ones((550), dtype=\"int32\")\n",
    "c = np.zeros_like(b)"
   ]
  },
  {
   "cell_type": "code",
   "execution_count": null,
   "metadata": {},
   "outputs": [],
   "source": [
    "# linspace\n",
    "a = np.linspace(0, 10.1, 100)\n",
    "b = np.linspace(20, -5, 256)\n",
    "print(a)"
   ]
  },
  {
   "cell_type": "code",
   "execution_count": null,
   "metadata": {},
   "outputs": [],
   "source": [
    "# arange\n",
    "a = np.arange(0, 10, 0.1)\n",
    "b = np.arange(-5, 200, 10.2)\n",
    "c = np.arange(0, 10, 1)"
   ]
  },
  {
   "cell_type": "code",
   "execution_count": null,
   "metadata": {},
   "outputs": [],
   "source": [
    "# interpolation by linsapce\n",
    "c = np.linspace(np.array([0.0, 1.0, 2.0, 3.0]), np.array([3.0, 2.0, 1.0, 0.0]), 50)\n",
    "\n",
    "plt.imshow(c)\n",
    "plt.show()"
   ]
  },
  {
   "cell_type": "markdown",
   "metadata": {},
   "source": [
    "### Indexing"
   ]
  },
  {
   "cell_type": "code",
   "execution_count": null,
   "metadata": {},
   "outputs": [],
   "source": [
    "c = np.linspace(np.array([0.0, 1.0, 2.0, 3.0]), np.array([3.0, 2.0, 1.0, 0.0]), 5)\n",
    "\n",
    "print(c[1, -1])"
   ]
  },
  {
   "cell_type": "code",
   "execution_count": null,
   "metadata": {},
   "outputs": [],
   "source": [
    "print(c[0])\n",
    "print(c[0, :])"
   ]
  },
  {
   "cell_type": "code",
   "execution_count": null,
   "metadata": {},
   "outputs": [],
   "source": [
    "print(c[-1])"
   ]
  },
  {
   "cell_type": "code",
   "execution_count": null,
   "metadata": {},
   "outputs": [],
   "source": [
    "print(c[:, 3])"
   ]
  },
  {
   "cell_type": "code",
   "execution_count": null,
   "metadata": {},
   "outputs": [],
   "source": [
    "print(c[2:5, 1:3])"
   ]
  },
  {
   "cell_type": "code",
   "execution_count": null,
   "metadata": {},
   "outputs": [],
   "source": [
    "print(c[1:4, ::2])"
   ]
  },
  {
   "cell_type": "code",
   "execution_count": null,
   "metadata": {},
   "outputs": [],
   "source": [
    "print(c[1:, ::2])"
   ]
  },
  {
   "cell_type": "markdown",
   "metadata": {},
   "source": [
    "### Indexing in multiple dimensional"
   ]
  },
  {
   "cell_type": "code",
   "execution_count": null,
   "metadata": {},
   "outputs": [],
   "source": [
    "a = np.zeros((10, 7, 3))\n",
    "for i in range(a.shape[2]):\n",
    "    a[..., i] = i*np.ones((a.shape[0], a.shape[1]))\n",
    "\n",
    "plt.imshow(a[..., 2], vmin=0, vmax=5, cmap='gray')\n",
    "plt.show()\n",
    "plt.imshow(a[0, ...])\n",
    "plt.show()\n",
    "\n",
    "plt.imshow(a[:, 4, :])\n",
    "plt.show()"
   ]
  },
  {
   "cell_type": "markdown",
   "metadata": {},
   "source": [
    "## Coordinate systems"
   ]
  },
  {
   "cell_type": "code",
   "execution_count": null,
   "metadata": {},
   "outputs": [],
   "source": [
    "# Meshgrid and coordinates\n",
    "# in 2D\n",
    "x = np.linspace(-10, 10, 100)\n",
    "y = np.linspace(-10, 10, 100)\n",
    "x, y = np.meshgrid(x, y)\n",
    "\n",
    "plt.imshow(x)\n",
    "plt.show()\n",
    "plt.imshow(y)\n",
    "plt.show()\n",
    "\n",
    "# in 3D\n",
    "x = np.linspace(-10, 10, 100)\n",
    "y = np.linspace(-10, 10, 100)\n",
    "z = np.linspace(0, 5, 10)\n",
    "x, y, z = np.meshgrid(x, y, z)"
   ]
  },
  {
   "cell_type": "code",
   "execution_count": null,
   "metadata": {},
   "outputs": [],
   "source": [
    "# We can simply apply a function on coordinates and numerically simulate its distribution through the coordinate system. \n",
    "# The system can represent space, time, frequency or any parameter.\n",
    "\n",
    "x = np.linspace(-10, 10, 100)\n",
    "y = np.linspace(-10, 10, 100)\n",
    "x, y = np.meshgrid(x, y)\n",
    "\n",
    "f = y*x\n",
    "plt.imshow(f)\n",
    "plt.show()\n",
    "\n",
    "r = np.sqrt(x*x + y*y)\n",
    "plt.imshow(r)\n",
    "plt.show()\n",
    "\n",
    "\n",
    "f = np.sin(r)\n",
    "plt.imshow(f)\n",
    "plt.show()"
   ]
  },
  {
   "cell_type": "code",
   "execution_count": null,
   "metadata": {},
   "outputs": [],
   "source": [
    "# Defining arrays of vectors\n",
    "# We can compute an array of vectors known as vector field \n",
    "\n",
    "x = np.linspace(-10, 10, 20)\n",
    "y = np.linspace(-10, 10, 20)\n",
    "x, y = np.meshgrid(x, y)\n",
    "\n",
    "u = np.sin(x)\n",
    "v = np.cos(y)\n",
    "plt.quiver(x, y, u, v)\n",
    "plt.show()\n",
    "\n",
    "u = -np.sin(y)\n",
    "v = np.cos(x)\n",
    "plt.quiver(x, y, u, v)\n",
    "plt.show()"
   ]
  },
  {
   "cell_type": "markdown",
   "metadata": {},
   "source": [
    "## Multiplication"
   ]
  },
  {
   "cell_type": "markdown",
   "metadata": {},
   "source": [
    "### Dot product"
   ]
  },
  {
   "cell_type": "code",
   "execution_count": null,
   "metadata": {},
   "outputs": [],
   "source": [
    "a = np.array([2.1, -7.5, 5.0])\n",
    "b = np.array([0.2, 2.8, -1.6])\n",
    "\n",
    "dot = np.dot(a, b)\n",
    "print(dot)\n",
    "print(np.sum(a*b))"
   ]
  },
  {
   "cell_type": "code",
   "execution_count": null,
   "metadata": {},
   "outputs": [],
   "source": [
    "# Dot product between vectors\n",
    "\n",
    "x = np.linspace(-10, 10, 10)\n",
    "y = np.linspace(-10, 10, 10)\n",
    "x, y = np.meshgrid(x, y)\n",
    "\n",
    "u1 = -y\n",
    "v1 = x\n",
    "\n",
    "u2 = x\n",
    "v2 = y\n",
    "\n",
    "plt.quiver(x, y, u1, v1)\n",
    "plt.show()\n",
    "\n",
    "plt.quiver(x, y, u2, v2)\n",
    "plt.show()\n",
    "\n",
    "dot = u1*u2 + v1*v2\n",
    "plt.imshow(dot)\n",
    "plt.show()\n"
   ]
  },
  {
   "cell_type": "markdown",
   "metadata": {},
   "source": [
    "### Cross product"
   ]
  },
  {
   "cell_type": "code",
   "execution_count": null,
   "metadata": {},
   "outputs": [],
   "source": [
    "# Between arrays of vectors\n",
    "\n",
    "x = np.linspace(-10, 10, 20)\n",
    "y = np.linspace(-10, 10, 20)\n",
    "x, y = np.meshgrid(x, y)\n",
    "\n",
    "u1 = -y\n",
    "v1 = x\n",
    "\n",
    "u2 = x\n",
    "v2 = y\n",
    "\n",
    "plt.quiver(x, y, u1, v1)\n",
    "plt.show()\n",
    "\n",
    "plt.quiver(x, y, u2, v2)\n",
    "plt.show()\n",
    "\n",
    "# Cross product must be solved in 3D but we are only working in 2D (x, y)\n",
    "# We are sure that the cross product only has component in the z direction\n",
    "\n",
    "# since the relation is \n",
    "# 𝒂×𝒃=(𝑎2*𝑏3 − 𝑎3*𝑏2)𝑖 + (𝑎3*𝑏1 − 𝑎1*𝑏3)𝑗 + (𝑎1*𝑏2 − 𝑎2*𝑏1)𝑘\n",
    "# a3 = b3 = 0\n",
    "# => 𝒂×𝒃 = (𝑎1*𝑏2 − 𝑎2*𝑏1)𝑘\n",
    "\n",
    "cross = u1*v2 - u2*v1\n",
    "# now we can show it as scalar values in an image\n",
    "plt.imshow(np.abs(cross))\n",
    "plt.show()"
   ]
  },
  {
   "cell_type": "markdown",
   "metadata": {},
   "source": [
    "## Electric field simulation"
   ]
  },
  {
   "cell_type": "code",
   "execution_count": null,
   "metadata": {},
   "outputs": [],
   "source": [
    "# 2d vector example\n",
    "# electric field\n",
    "\n",
    "def E_field(q, x0, y0, x, y):\n",
    "    x_ = x - x0\n",
    "    y_ = y - y0\n",
    "    r = np.sqrt(x_*x_ + y_*y_)\n",
    "    return np.stack([q*x_/np.power(r, 3), q*y_/np.power(r, 3)], axis=0)\n",
    "\n",
    "\n",
    "E = E_field(1.0, 3, -5, x, y)\n",
    "Ex = E[0]\n",
    "Ey = E[1]\n",
    "plt.quiver(x, y, Ex, Ey)\n",
    "plt.show()"
   ]
  },
  {
   "cell_type": "code",
   "execution_count": null,
   "metadata": {},
   "outputs": [],
   "source": [
    "# Adding multiple vector fields\n",
    "\n",
    "E = E_field(1.0, 3, -5, x, y) + E_field(-0.7, -2, 6, x, y) + E_field(-0.3, -7, -2, x, y)\n",
    "Ex = E[0]\n",
    "Ey = E[1]\n",
    "E_m = np.sqrt(Ex*Ex + Ey*Ey)\n",
    "\n",
    "\n",
    "fig = plt.figure()\n",
    "ax = fig.add_subplot(111)\n",
    "color = 2 * np.log(E_m)\n",
    "ax.streamplot(x, y, Ex, Ey, color=color, linewidth=1, cmap=plt.cm.inferno,\n",
    "              density=2, arrowstyle='->', arrowsize=1.0)\n",
    "plt.show()\n",
    "\n",
    "\n",
    "plt.imshow(np.moveaxis(Ex, 1, 0))\n",
    "plt.show()\n",
    "plt.imshow(np.moveaxis(Ey, 1, 0))\n",
    "plt.show()\n",
    "\n",
    "# why did we ignore k in E-field formula\n",
    "# how to handle singularity"
   ]
  },
  {
   "cell_type": "markdown",
   "metadata": {},
   "source": [
    "# Linear Algebra - Part 2\n",
    "Transforms"
   ]
  },
  {
   "cell_type": "code",
   "execution_count": null,
   "metadata": {},
   "outputs": [],
   "source": [
    "x = np.linspace(-5, 5, 10)\n",
    "y = np.linspace(-5, 5, 10)\n",
    "z = np.linspace(-5, 5, 10)\n",
    "x, y, z = np.meshgrid(x, y, z)\n",
    "\n",
    "u = x\n",
    "v = y\n",
    "w = z\n",
    "\n",
    "\n",
    "def show_points(u, v, w, xlim=None, ylim=None, zlim=None):\n",
    "    fig = plt.figure()\n",
    "    ax = fig.add_subplot(projection='3d')\n",
    "    if xlim is not None:\n",
    "        ax.set_xlim(xlim[0], xlim[1])\n",
    "    if ylim is not None:\n",
    "        ax.set_ylim(ylim[0], ylim[1])\n",
    "    if zlim is not None:\n",
    "        ax.set_zlim(zlim[0], zlim[1])\n",
    "    ax.scatter(u,v,w)\n",
    "    ax.scatter(0,0,0)\n",
    "    plt.show()"
   ]
  },
  {
   "cell_type": "code",
   "execution_count": null,
   "metadata": {},
   "outputs": [],
   "source": [
    "# Scale\n",
    "\n",
    "def S(x, y, z, sx=1, sy=1, sz=1):\n",
    "    return sx*x, sy*y, sz*z\n",
    "\n",
    "\n",
    "u, v, w = S(x, y, z, 2, 0.5, 1)\n",
    "show_points(u, v, w, (-10, 10), (-10, 10), (-10, 10))"
   ]
  },
  {
   "cell_type": "code",
   "execution_count": null,
   "metadata": {},
   "outputs": [],
   "source": [
    "# Rotation\n",
    "\n",
    "#       [1     0     0]\n",
    "# Rx =  [0  cos0 -sin0]\n",
    "#       [0  sin0  cos0]\n",
    "def Rx(x, y, z, theta):\n",
    "    rad = theta * np.pi/180\n",
    "    return x, np.cos(rad)*y - np.sin(rad)*z, np.sin(rad)*y + np.cos(rad)*z\n",
    "\n",
    "#       [cos0  0 -sin0]\n",
    "# Ry =  [0     1     0]\n",
    "#       [sin0  0  cos0]\n",
    "def Ry(x, y, z, theta):\n",
    "    rad = theta * np.pi/180\n",
    "    return np.cos(rad)*x - np.sin(rad)*z, y, np.sin(rad)*x + np.cos(rad)*z\n",
    "\n",
    "#       [cos0 -sin0  0]\n",
    "# Rz =  [sin0  cos0  0]\n",
    "#       [0        0  1]\n",
    "def Rz(x, y, z, theta):\n",
    "    rad = theta * np.pi/180\n",
    "    return np.cos(rad)*x - np.sin(rad)*y, np.sin(rad)*x + np.cos(rad)*y, z\n"
   ]
  },
  {
   "cell_type": "code",
   "execution_count": null,
   "metadata": {},
   "outputs": [],
   "source": [
    "# Apply Rotation\n",
    "\n",
    "# 1.\n",
    "u, v, w = Rx(x, y, z, 45)\n",
    "show_points(u, v, w, (-8, 8), (-8, 8), (-8, 8))\n",
    "\n",
    "u, v, w = Ry(x, y, z, 45)\n",
    "show_points(u, v, w, (-8, 8), (-8, 8), (-8, 8))\n",
    "\n",
    "u, v, w = Rz(x, y, z, 45)\n",
    "show_points(u, v, w, (-8, 8), (-8, 8), (-8, 8))"
   ]
  },
  {
   "cell_type": "code",
   "execution_count": null,
   "metadata": {},
   "outputs": [],
   "source": [
    "u, v, w = Rz(x, y, z, 10)\n",
    "u, v, w = Ry(u, v, w, 30)\n",
    "u, v, w = Rz(u, v, w, -45)\n",
    "\n",
    "show_points(u, v, w, (-8, 8), (-8, 8), (-8, 8))"
   ]
  },
  {
   "cell_type": "code",
   "execution_count": null,
   "metadata": {},
   "outputs": [],
   "source": [
    "# general form of transformation\n",
    "\n",
    "def Transform(x, y, z, H):\n",
    "    return x*H[0, 0] + y*H[0, 1] + H[0, 2]*z, x*H[1, 0] + y*H[1, 1] + H[1, 2]*z, x*H[2, 0] + y*H[2, 1] + H[2, 2]*z\n",
    "\n",
    "h = np.array([[0,       2,    0.5], \n",
    "              [-2,      -1,    0.1],\n",
    "              [0.03, -0.3,    0.3]])\n",
    "\n",
    "u, v, w = Transform(x, y, z, h)\n",
    "show_points(u, v, w, xlim=(-10, 10), ylim=(-10, 10), zlim=(-10, 10))"
   ]
  },
  {
   "cell_type": "code",
   "execution_count": null,
   "metadata": {},
   "outputs": [],
   "source": [
    "# random transform\n",
    "\n",
    "t = np.random.rand(3, 3)\n",
    "t -= 0.5\n",
    "t *= 2\n",
    "\n",
    "u, v, w = Transform(x, y, z, t)\n",
    "show_points(u, v, w, xlim=(-10, 10), ylim=(-10, 10), zlim=(-10, 10))"
   ]
  },
  {
   "cell_type": "code",
   "execution_count": null,
   "metadata": {},
   "outputs": [],
   "source": [
    "from skimage.data import camera\n",
    "\n",
    "camera_man = camera()\n",
    "plt.imshow(camera_man)\n",
    "plt.show()\n",
    "\n",
    "nx, ny = 128, 128\n",
    "camera_man = camera_man[255-ny//2:255+ny//2, 255-nx//2:255+nx//2]\n",
    "plt.imshow(camera_man)\n",
    "plt.show()"
   ]
  },
  {
   "cell_type": "code",
   "execution_count": null,
   "metadata": {},
   "outputs": [],
   "source": [
    "camera_man_raveled = camera_man.ravel()\n",
    "\n",
    "H = np.zeros((nx*ny, nx*ny), dtype=np.float32)\n",
    "np.fill_diagonal(H, 1)\n",
    "H += np.roll(H, 1, axis=0) + np.roll(H, 2, axis=0) + np.roll(H, 3, axis=0) + np.roll(H, -1, axis=0) + np.roll(H, -2, axis=0) + np.roll(H, -3, axis=0)\n",
    "\n",
    "camera_man_transformed = np.matmul(H, camera_man_raveled)\n",
    "camera_man_transformed = camera_man_transformed.reshape(ny, nx)\n",
    "\n",
    "plt.imshow(H[:100, :100])\n",
    "plt.show()\n",
    "plt.imshow(camera_man_transformed)\n",
    "plt.show()"
   ]
  },
  {
   "cell_type": "code",
   "execution_count": null,
   "metadata": {},
   "outputs": [],
   "source": [
    "# Affine transformation: translation\n",
    "\n",
    "def AffineTransform(x, y, z, H):\n",
    "    wc = x*H[3, 0] + y*H[3, 1] + z*H[3, 2] + H[3, 3]\n",
    "    return (x*H[0, 0] + y*H[0, 1] + z*H[0, 2] + H[0, 3])/wc, (x*H[1, 0] + y*H[1, 1] + z*H[1, 2] + H[1, 3])/wc, (x*H[2, 0] + y*H[2, 1] + z*H[2, 2] + H[2, 3])/wc\n",
    "\n",
    "h = np.array([[1,       0,      0,      5], \n",
    "              [0,       1,      0,      0],\n",
    "              [0,       0,      1,      2],\n",
    "              [0,       0,      0,      1]])\n",
    "\n",
    "\n",
    "x = np.linspace(-5, 5, 10)\n",
    "y = np.linspace(-5, 5, 10)\n",
    "z = np.linspace(-5, 5, 10)\n",
    "x, y, z = np.meshgrid(x, y, z)\n",
    "\n",
    "show_points(x, y, z, xlim=(-10, 10), ylim=(-10, 10), zlim=(-10, 10))\n",
    "\n",
    "\n",
    "u, v, w = AffineTransform(x, y, z, h)\n",
    "show_points(u, v, w, xlim=(-10, 10), ylim=(-10, 10), zlim=(-10, 10))"
   ]
  },
  {
   "cell_type": "code",
   "execution_count": null,
   "metadata": {},
   "outputs": [],
   "source": [
    "# Affine transformation: perspective\n",
    "\n",
    "def AffineTransform(x, y, z, H):\n",
    "    wc = x*H[3, 0] + y*H[3, 1] + z*H[3, 2] + H[3, 3]\n",
    "    return (x*H[0, 0] + y*H[0, 1] + z*H[0, 2] + H[0, 3])/wc, (x*H[1, 0] + y*H[1, 1] + z*H[1, 2] + H[1, 3])/wc, (x*H[2, 0] + y*H[2, 1] + z*H[2, 2] + H[2, 3])/wc\n",
    "\n",
    "\n",
    "def perspective_array(fov, far_plane, near_plane):\n",
    "    S = 1/np.tan(fov*np.pi/360)\n",
    "    f_n = far_plane/(far_plane-near_plane)\n",
    "    return np.array([[S,       0,      0,      0], \n",
    "                     [0,       S,      0,      0],\n",
    "                     [0,       0,    f_n,      1],\n",
    "                     [0,       0,  f_n*n,      0]])\n",
    "\n",
    "\n",
    "x = np.linspace(1, 4, 10)\n",
    "y = np.linspace(1, 4, 10)\n",
    "z = np.linspace(1, 4, 10)\n",
    "x, y, z = np.meshgrid(x, y, z)\n",
    "\n",
    "show_points(x, y, z, xlim=(-5, 5), ylim=(-5, 5), zlim=(-5, 5))\n",
    "\n",
    "h = perspective_array(60, far_plane=10, near_plane=1)\n",
    "\n",
    "u, v, w = AffineTransform(x, y, z, h)\n",
    "show_points(u, v, w, xlim=(-5, 5), ylim=(-5, 5), zlim=(-5, 5))"
   ]
  }
 ],
 "metadata": {
  "kernelspec": {
   "display_name": "Python 3 (ipykernel)",
   "language": "python",
   "name": "python3"
  },
  "language_info": {
   "codemirror_mode": {
    "name": "ipython",
    "version": 3
   },
   "file_extension": ".py",
   "mimetype": "text/x-python",
   "name": "python",
   "nbconvert_exporter": "python",
   "pygments_lexer": "ipython3",
   "version": "3.11.4"
  }
 },
 "nbformat": 4,
 "nbformat_minor": 2
}
