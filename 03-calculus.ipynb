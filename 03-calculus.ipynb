{
 "cells": [
  {
   "cell_type": "markdown",
   "metadata": {},
   "source": [
    "# Calculus - Part 1\n",
    "\n",
    "In this section you will\n",
    "* learn how to numerically calculate derivatives of arbitrary functions.\n",
    "* learn the logic behind higher-order differencials.\n",
    "* develop an intuition about gradients.\n",
    "* learn how to calculate the divergence of a vector function.\n",
    "* see what the concept of <i>source</i> in the Gauss's law means.\n",
    "* learn how to calculate the curl of a vector function."
   ]
  },
  {
   "cell_type": "code",
   "execution_count": null,
   "metadata": {
    "collapsed": true
   },
   "outputs": [],
   "source": [
    "import numpy as np\n",
    "from matplotlib import pyplot as plt\n",
    "from utils.vector_ops import divergence2D, curl\n",
    "from utils.vector_fields import E_field"
   ]
  },
  {
   "cell_type": "code",
   "execution_count": null,
   "metadata": {},
   "outputs": [],
   "source": [
    "x = np.linspace(-10, 10, 10000)\n",
    "\n",
    "def f(x):\n",
    "    return np.cos(x*x)\n",
    "\n",
    "plt.plot(x, f(x))\n",
    "plt.show()"
   ]
  },
  {
   "cell_type": "markdown",
   "metadata": {},
   "source": [
    "## Derivative"
   ]
  },
  {
   "cell_type": "code",
   "execution_count": null,
   "metadata": {},
   "outputs": [],
   "source": [
    "# first derivative\n",
    "def df(fx, dx):\n",
    "    #dfx = np.zeros_like(fx)\n",
    "    #dfx[1:] = fx[1:] - fx[:-1]\n",
    "    dfx = fx[1:] - fx[:-1]\n",
    "    #dfx[0] = dfx[1]\n",
    "    return dfx/dx\n",
    "\n",
    "dx = x[1] - x[0]\n",
    "fx = f(x)\n",
    "\n",
    "plt.plot(x[1:], df(fx, dx))\n",
    "plt.show()"
   ]
  },
  {
   "cell_type": "code",
   "execution_count": null,
   "metadata": {},
   "outputs": [],
   "source": [
    "def dcosx2(x):\n",
    "    return -2 * x*np.sin(x*x)\n",
    "\n",
    "plt.plot(x, dcosx2(x))\n",
    "plt.show()"
   ]
  },
  {
   "cell_type": "code",
   "execution_count": null,
   "metadata": {},
   "outputs": [],
   "source": [
    "df1 = df(fx, dx)\n",
    "df2 = df(df1, dx)\n",
    "df3 = df(df2, dx)\n",
    "df4 = df(df3, dx)\n",
    "df5 = df(df4, dx)\n",
    "\n",
    "plt.plot(x[1:], df1)\n",
    "plt.show()\n",
    "plt.plot(x[2:], df2)\n",
    "plt.show()\n",
    "plt.plot(x[3:], df3)\n",
    "plt.show()\n",
    "plt.plot(x[4:], df4)\n",
    "plt.show()\n",
    "plt.plot(x[5:], df5)\n",
    "plt.show()"
   ]
  },
  {
   "cell_type": "markdown",
   "metadata": {},
   "source": [
    "Hear we see how boundary conditions in differencial equations determine the percision of the solution."
   ]
  },
  {
   "cell_type": "markdown",
   "metadata": {},
   "source": [
    "## Gradient"
   ]
  },
  {
   "cell_type": "code",
   "execution_count": null,
   "metadata": {},
   "outputs": [],
   "source": [
    "x, y = np.meshgrid(np.linspace(-10, 10, 200),np.linspace(-10, 10, 200))\n",
    "\n",
    "def f(x, y):\n",
    "    r2 = x*x + y*y\n",
    "    return np.sin(r2)\n",
    "\n",
    "fxy = f(x, y)\n",
    "\n",
    "plt.imshow(fxy)\n",
    "plt.show()"
   ]
  },
  {
   "cell_type": "code",
   "execution_count": null,
   "metadata": {},
   "outputs": [],
   "source": [
    "plt.plot(fxy[80, :])"
   ]
  },
  {
   "cell_type": "code",
   "execution_count": null,
   "metadata": {},
   "outputs": [],
   "source": [
    "def grad2D(f):\n",
    "    gradx = np.zeros((f.shape[0], f.shape[1]), dtype=np.float64)\n",
    "    grady = np.zeros((f.shape[0], f.shape[1]), dtype=np.float64)\n",
    "    gradx[:, 1:] = f[:, 1:] - f[:, :-1]\n",
    "    grady[1:, :] = f[1:, :] - f[:-1, :]\n",
    "    # boundaries\n",
    "    gradx[:, 0] = gradx[:, 1]\n",
    "    grady[0, :] = grady[1, :]\n",
    "    return np.stack([gradx, grady], axis=-1)\n",
    "\n",
    "grad = grad2D(fxy)\n",
    "\n",
    "print('gradx')\n",
    "plt.imshow(grad[..., 0])\n",
    "plt.show()\n",
    "print('grady')\n",
    "plt.imshow(grad[..., 1])\n",
    "plt.show()"
   ]
  },
  {
   "cell_type": "code",
   "execution_count": null,
   "metadata": {},
   "outputs": [],
   "source": [
    "gradgradx = grad2D(grad[..., 0])\n",
    "plt.imshow(gradgradx[..., 0])\n",
    "plt.show()\n",
    "plt.imshow(gradgradx[..., 1])\n",
    "plt.show()"
   ]
  },
  {
   "cell_type": "markdown",
   "metadata": {},
   "source": [
    "### <span style=\"color:yellow\">Excercise:</span>\n",
    "Write a function that finds the gradient in the polar(cylinderical) coordinate system."
   ]
  },
  {
   "cell_type": "code",
   "execution_count": null,
   "metadata": {},
   "outputs": [],
   "source": [
    "x, y = np.meshgrid(np.linspace(-10, 10, 200),np.linspace(-10, 10, 200))\n",
    "\n",
    "def f(x, y):\n",
    "    r = np.sqrt(x*x + y*y)\n",
    "    return np.stack([-x/r, y/r], axis=-1)\n",
    "\n",
    "fxy = f(x, y)\n",
    "\n",
    "plt.imshow(fxy[..., 0])\n",
    "plt.show()\n",
    "plt.imshow(fxy[..., 1])\n",
    "plt.show()\n",
    "\n",
    "\n",
    "plt.quiver(x[::10, ::10], y[::10, ::10], fxy[::10, ::10, 0], fxy[::10, ::10, 1])\n",
    "plt.show()"
   ]
  },
  {
   "cell_type": "markdown",
   "metadata": {},
   "source": [
    "# Divergence"
   ]
  },
  {
   "cell_type": "markdown",
   "metadata": {},
   "source": [
    "### Showcase"
   ]
  },
  {
   "cell_type": "code",
   "execution_count": null,
   "metadata": {},
   "outputs": [],
   "source": [
    "x, y = np.meshgrid(np.linspace(-10, 10, 200),np.linspace(-10, 10, 200))\n",
    "r2 = x*x + y*y\n",
    "r = np.sqrt(r2)\n",
    "\n",
    "\n",
    "def f(x, y):\n",
    "    r = np.sqrt(x*x + y*y)\n",
    "    return np.stack([x/r, y/r], axis=-1)\n",
    "\n",
    "fxy = f(x, y)\n",
    "\n",
    "plt.imshow(fxy[..., 0])\n",
    "plt.show()\n",
    "plt.imshow(fxy[..., 1])\n",
    "plt.show()\n",
    "\n",
    "plt.quiver(x[::10, ::10], y[::10, ::10], fxy[::10, ::10, 0], fxy[::10, ::10, 1])\n",
    "plt.show()\n",
    "\n",
    "\n",
    "\n",
    "dx = x[0, 1] - x[0, 0]\n",
    "dy = y[1, 0] - y[0, 0]\n",
    "df = divergence2D(fxy[..., 0], fxy[..., 1], dx, dy)\n",
    "\n",
    "print('numerical divergence')\n",
    "plt.imshow(df)\n",
    "plt.show()\n",
    "\n",
    "\n",
    "dfx_exact = y*y/(r2*r)\n",
    "dfy_exact = x*x/(r2*r)\n",
    "df_exact = dfx_exact + dfy_exact\n",
    "\n",
    "print('exact divergence')\n",
    "plt.imshow(df_exact)\n",
    "plt.show()\n",
    "\n",
    "print('error')\n",
    "plt.imshow((df - df_exact), vmin=0, vmax=0.1)\n",
    "plt.show()\n",
    "\n",
    "\n",
    "\n",
    "print('surface plots')\n",
    "\n",
    "fig = plt.figure()\n",
    "ax = fig.add_subplot(projection='3d')\n",
    "surf = ax.plot_surface(x, y, fxy[..., 0], rstride=1, cstride=1, cmap='coolwarm',\n",
    "                       linewidth=0, antialiased=True, shade=True)\n",
    "plt.show()\n",
    "\n",
    "\n",
    "fig = plt.figure()\n",
    "ax = fig.add_subplot(projection='3d')\n",
    "surf = ax.plot_surface(x, y, fxy[..., 1], rstride=1, cstride=1, cmap='coolwarm',\n",
    "                       linewidth=0, antialiased=True, shade=True)\n",
    "plt.show()\n",
    "\n",
    "\n",
    "fig = plt.figure()\n",
    "ax = fig.add_subplot(projection='3d')\n",
    "surf = ax.plot_surface(x, y, df, rstride=1, cstride=1, cmap='viridis',\n",
    "                       linewidth=0, antialiased=True, shade=True)\n",
    "plt.show()"
   ]
  },
  {
   "cell_type": "markdown",
   "metadata": {},
   "source": [
    "# Curl"
   ]
  },
  {
   "cell_type": "markdown",
   "metadata": {},
   "source": [
    "### Curl example"
   ]
  },
  {
   "cell_type": "code",
   "execution_count": null,
   "metadata": {},
   "outputs": [],
   "source": [
    "# example 1\n",
    "\n",
    "x, y, z = np.meshgrid(np.linspace(0, 1, 9),\n",
    "                      np.linspace(0, 1, 9),\n",
    "                      np.linspace(0, 1, 9))\n",
    "\n",
    "\n",
    "\n",
    "fx = np.sin(np.pi * x) * np.cos(np.pi * y) * np.cos(np.pi * z)\n",
    "fy = -np.cos(np.pi * x) * np.sin(np.pi * y) * np.cos(np.pi * z)\n",
    "fz = np.sqrt(2.0 / 3.0) * np.cos(np.pi * x) * np.cos(np.pi * y) * np.sin(np.pi * z)\n",
    "\n",
    "\n",
    "fig = plt.figure()\n",
    "ax = fig.add_subplot(projection='3d')\n",
    "ax.quiver(x, y, z, fx, fy, fz, length=0.3, color='black')\n",
    "plt.show()\n",
    "\n",
    "\n",
    "\n",
    "dx = x[0, 1, 0] - x[0, 0, 0]\n",
    "dy = y[1, 0, 0] - y[0, 0, 0]\n",
    "dz = z[0, 0, 1] - z[0, 0, 0]\n",
    "cfx, cfy, cfz = curl(fx, fy, fz, dx, dy, dz)\n",
    "\n",
    "\n",
    "fig = plt.figure()\n",
    "ax = fig.add_subplot(projection='3d')\n",
    "ax.quiver(x, y, z, cfx, cfy, cfz, length=0.03, color='black')\n",
    "plt.show()\n"
   ]
  },
  {
   "cell_type": "markdown",
   "metadata": {},
   "source": [
    "### Electric field example\n",
    "Divergence of the electic field of point charges in 2D"
   ]
  },
  {
   "cell_type": "code",
   "execution_count": null,
   "metadata": {},
   "outputs": [],
   "source": [
    "# example \n",
    "x, y = np.meshgrid(np.linspace(-10, 10, 100),np.linspace(-10, 10, 100))\n",
    "\n",
    "E = E_field(1, 0.5, 3, x, y) + E_field(-0.5, -5, -2, x, y) + E_field(-0.7, 7, -4, x, y)\n",
    "Ex = E[0]\n",
    "Ey = E[1]\n",
    "E_m = np.sqrt(Ex*Ex + Ey*Ey)\n",
    "\n",
    "fig = plt.figure()\n",
    "ax = fig.add_subplot(111)\n",
    "color = 2 * np.log(E_m)\n",
    "ax.streamplot(x, y, Ex, Ey, color=color, linewidth=1, cmap=plt.cm.inferno,\n",
    "              density=2, arrowstyle='->', arrowsize=1.0)\n",
    "plt.show()\n",
    "\n",
    "\n",
    "\n",
    "dx = x[0, 1] - x[0, 0]\n",
    "dy = y[1, 0] - y[0, 0]\n",
    "df = divergence2D(Ex, Ey, dx, dy)\n",
    "\n",
    "df = df[1:-1, 1:-1]\n",
    "\n",
    "\n",
    "\n",
    "print('numerical divergence')\n",
    "plt.imshow(df[::-1, :])\n",
    "plt.show()\n",
    "\n",
    "print('surface plots')\n",
    "\n",
    "fig = plt.figure()\n",
    "ax = fig.add_subplot(projection='3d')\n",
    "surf = ax.plot_surface(x, y, Ex, rstride=1, cstride=1, cmap='coolwarm',\n",
    "                       linewidth=0, antialiased=True, shade=True)\n",
    "plt.show()\n",
    "\n",
    "\n",
    "fig = plt.figure()\n",
    "ax = fig.add_subplot(projection='3d')\n",
    "surf = ax.plot_surface(x, y, Ey, rstride=1, cstride=1, cmap='coolwarm',\n",
    "                       linewidth=0, antialiased=True, shade=True)\n",
    "plt.show()\n",
    "\n",
    "x = x[1:-1, 1:-1]\n",
    "y = y[1:-1, 1:-1]\n",
    "fig = plt.figure()\n",
    "ax = fig.add_subplot(projection='3d')\n",
    "surf = ax.plot_surface(x, y, df, rstride=1, cstride=1, cmap='viridis',\n",
    "                       linewidth=0, antialiased=True, shade=True)\n",
    "plt.show()"
   ]
  },
  {
   "cell_type": "markdown",
   "metadata": {},
   "source": [
    "Curl of the electic field of point charges in 2D and 3D"
   ]
  },
  {
   "cell_type": "code",
   "execution_count": null,
   "metadata": {},
   "outputs": [],
   "source": [
    "# example 2\n",
    "\n",
    "x, y, z = np.meshgrid(np.linspace(-10, 10, 7),np.linspace(-10, 10, 7), np.linspace(-10, 10, 7))\n",
    "rho = np.sqrt(x*x + z*z)\n",
    "\n",
    "Ex = -np.copy(z)\n",
    "Ey = np.zeros_like(y)\n",
    "Ez = np.copy(x)\n",
    "'''E_m = np.sqrt(Ex*Ex + Ey*Ey + Ez*Ez)\n",
    "E_m += np.min(E_m)\n",
    "E_m /= np.max(E_m)'''\n",
    "\n",
    "fig = plt.figure(figsize = (8, 8))\n",
    "ax = fig.add_subplot(projection='3d')\n",
    "ax.quiver(x, y, z, Ex, Ey, Ez, length=0.3, color='black')\n",
    "plt.show()\n",
    "\n",
    "\n",
    "dx = x[0, 1, 0] - x[0, 0, 0]\n",
    "dy = y[1, 0, 0] - y[0, 0, 0]\n",
    "dz = z[0, 0, 1] - z[0, 0, 0]\n",
    "cEx, cEy, cEz = curl(Ex, Ey, Ez, dx, dy, dz)\n",
    "'''\n",
    "cE_m = np.sqrt(cEx*cEx + cEy*cEy + cEz*cEz)\n",
    "cE_m += np.min(cE_m)\n",
    "cE_m /= np.max(cE_m)'''\n",
    "\n",
    "fig = plt.figure(figsize = (8, 8))\n",
    "ax = fig.add_subplot(projection='3d')\n",
    "ax.quiver(x, y, z, cEx, cEy, cEz, length=1.0, color='black')\n",
    "plt.show()\n",
    "\n",
    "\n",
    "\n",
    "i = 3\n",
    "print(f'section z={z[0, 0, i]:.1f}')\n",
    "fig = plt.figure(figsize = (8, 8))\n",
    "ax = fig.add_subplot(111)\n",
    "ax.quiver(x[..., i], y[..., i], cEx[..., i], cEy[..., i], color='black')\n",
    "plt.show()\n"
   ]
  },
  {
   "cell_type": "markdown",
   "metadata": {},
   "source": [
    "### More Divergence"
   ]
  },
  {
   "cell_type": "code",
   "execution_count": null,
   "metadata": {},
   "outputs": [],
   "source": [
    "x, y = np.meshgrid(np.linspace(-2, 2, 30), np.linspace(-2, 2, 30))\n",
    "\n",
    "u = np.cos(x+2*y)\n",
    "v = np.sin(x-2*y)\n",
    "\n",
    "fig = plt.figure(figsize = (8, 8))\n",
    "ax = fig.add_subplot()\n",
    "ax.quiver(x, y, u, v, scale=20)\n",
    "plt.show()\n",
    "\n",
    "\n",
    "'''fig = plt.figure()\n",
    "ax = fig.add_subplot(111)\n",
    "color = np.sqrt(u*u + v*v)\n",
    "ax.streamplot(x, y, u, v, color=color, linewidth=1, cmap=plt.cm.inferno,\n",
    "              density=2, arrowstyle='->', arrowsize=1.0)\n",
    "plt.show()'''\n",
    "\n",
    "\n",
    "\n",
    "dx = x[0, 1] - x[0, 0]\n",
    "dy = y[1, 0] - y[0, 0]\n",
    "df = divergence2D(u, v, dx, dy)\n",
    "\n",
    "df = df[1:-1, 1:-1]\n",
    "\n",
    "\n",
    "print('numerical divergence')\n",
    "fig = plt.figure(figsize = (8, 8))\n",
    "ax = fig.add_subplot()\n",
    "ax.imshow(df[::-1, :])\n",
    "plt.show()\n",
    "\n",
    "print('surface plots')\n",
    "\n",
    "fig = plt.figure()\n",
    "ax = fig.add_subplot(projection='3d')\n",
    "surf = ax.plot_surface(x, y, u, rstride=1, cstride=1, cmap='coolwarm',\n",
    "                       linewidth=0, antialiased=True, shade=True)\n",
    "plt.show()\n",
    "\n",
    "\n",
    "fig = plt.figure()\n",
    "ax = fig.add_subplot(projection='3d')\n",
    "surf = ax.plot_surface(x, y, v, rstride=1, cstride=1, cmap='coolwarm',\n",
    "                       linewidth=0, antialiased=True, shade=True)\n",
    "plt.show()\n",
    "\n",
    "x = x[1:-1, 1:-1]\n",
    "y = y[1:-1, 1:-1]\n",
    "fig = plt.figure(figsize = (8, 8))\n",
    "ax = fig.add_subplot(projection='3d')\n",
    "surf = ax.plot_surface(x, y, df, rstride=1, cstride=1, cmap='inferno',\n",
    "                       linewidth=0, antialiased=True, shade=True)\n",
    "ax.view_init(70, -60)\n",
    "plt.show()"
   ]
  },
  {
   "cell_type": "markdown",
   "metadata": {},
   "source": [
    "# Calculus - Part 2"
   ]
  },
  {
   "cell_type": "markdown",
   "metadata": {},
   "source": [
    "### Integration"
   ]
  },
  {
   "cell_type": "code",
   "execution_count": 5,
   "metadata": {},
   "outputs": [],
   "source": [
    "import numpy as np\n",
    "from matplotlib import pyplot as plt"
   ]
  },
  {
   "cell_type": "markdown",
   "metadata": {},
   "source": [
    "\n",
    "integral{ x^a }"
   ]
  },
  {
   "cell_type": "code",
   "execution_count": null,
   "metadata": {},
   "outputs": [],
   "source": [
    "def func(x, a):\n",
    "    return x**a\n",
    "\n",
    "\n",
    "x = np.arange(1, 10, 1e-1)\n",
    "\n",
    "plt.plot(x, func(x, 0.6), label='a=0.6')\n",
    "plt.plot(x, func(x, 0.2), label='a=0.2')\n",
    "plt.plot(x, func(x, -0.2), label='a=-0.2')\n",
    "plt.plot(x, func(x, -0.5), label='a=-0.5')\n",
    "plt.plot(x, func(x, -1.0), label='a=-1.0')\n",
    "plt.plot(x, func(x, -5.0), label='a=-5.0')\n",
    "plt.title('1/x^a')\n",
    "plt.xlabel('x')\n",
    "plt.ylabel('y')\n",
    "plt.grid(True)\n",
    "plt.legend()\n",
    "plt.show()"
   ]
  },
  {
   "cell_type": "code",
   "execution_count": null,
   "metadata": {},
   "outputs": [],
   "source": [
    "def integrate(func, x, *args):\n",
    "    y = func(x, *args)\n",
    "    dx = x[1] - x[0]\n",
    "    mid_y = (y[1:] + y[:-1])/2\n",
    "    return dx * np.sum(mid_y)\n",
    "\n",
    "\n",
    "def integralx(integrate_func, x, *args, **kwargs):\n",
    "    b_s = kwargs.get('step_size', 1e-3)\n",
    "    b_start = x[0] - 2*b_s\n",
    "    y = np.zeros_like(x)\n",
    "    for i, x_ in enumerate(x):\n",
    "        b = np.arange(b_start, x_, b_s)\n",
    "        y[i] = integrate(integrate_func, b, *args)\n",
    "    return y\n",
    "\n",
    "x = np.arange(1, 5, 1e-2)\n",
    "\n",
    "y = integralx(func, x, 0.6)\n",
    "plt.plot(x, y, label='a=0.6')\n",
    "\n",
    "y = integralx(func, x, 0.2)\n",
    "plt.plot(x, y, label='a=0.2')\n",
    "\n",
    "y = integralx(func, x, -0.2)\n",
    "plt.plot(x, y, label='a=-0.2')\n",
    "\n",
    "y = integralx(func, x, -0.5)\n",
    "plt.plot(x, y, label='a=-0.5')\n",
    "\n",
    "y = integralx(func, x, -1.0)\n",
    "plt.plot(x, y, label='a=-1.0')\n",
    "\n",
    "y = integralx(func, x, -5.0)\n",
    "plt.plot(x, y, label='a=-5.0')\n",
    "\n",
    "y = np.log(x)\n",
    "plt.plot(x, y, label='ln(x)', linestyle='--', color='black')\n",
    "plt.title('integral(x^a)')\n",
    "plt.xlabel('x')\n",
    "plt.ylabel('y')\n",
    "plt.grid(True)\n",
    "plt.legend()\n",
    "plt.show()"
   ]
  },
  {
   "cell_type": "markdown",
   "metadata": {},
   "source": [
    "integral{cos(x^3)}"
   ]
  },
  {
   "cell_type": "code",
   "execution_count": null,
   "metadata": {},
   "outputs": [],
   "source": [
    "# Example 2\n",
    "\n",
    "def func(x):\n",
    "    return np.cos(x**3)\n",
    "\n",
    "x = np.arange(-3, 3, 1e-2)\n",
    "\n",
    "y = integralx(func, x)\n",
    "plt.plot(x, y)\n",
    "plt.xlabel('x')\n",
    "plt.ylabel('y')\n",
    "plt.grid(True)\n",
    "plt.show()"
   ]
  },
  {
   "cell_type": "markdown",
   "metadata": {},
   "source": [
    "### Differencial Equation "
   ]
  },
  {
   "cell_type": "code",
   "execution_count": 2,
   "metadata": {},
   "outputs": [],
   "source": [
    "from scipy.integrate import odeint"
   ]
  },
  {
   "cell_type": "markdown",
   "metadata": {},
   "source": [
    "Position-time equation"
   ]
  },
  {
   "cell_type": "code",
   "execution_count": 59,
   "metadata": {},
   "outputs": [],
   "source": [
    "def position_time(x, t):\n",
    "    return -9.8*t + v0"
   ]
  },
  {
   "cell_type": "code",
   "execution_count": 58,
   "metadata": {},
   "outputs": [],
   "source": [
    "time = np.arange(0, 10, 1e-3)"
   ]
  },
  {
   "cell_type": "code",
   "execution_count": 57,
   "metadata": {},
   "outputs": [
    {
     "data": {
      "image/png": "[encoded data removed]",
      "text/plain": [
       "<Figure size 640x480 with 1 Axes>"
      ]
     },
     "metadata": {},
     "output_type": "display_data"
    }
   ],
   "source": [
    "x0 = 10\n",
    "v0 = 10\n",
    "\n",
    "x = odeint(position_time, [x0], time)\n",
    "\n",
    "plt.plot(time, x, 'blue', linewidth = 2)\n",
    "plt.plot(time, -0.5*9.8*time*time + v0*time + x0, 'orange', linewidth = 2, linestyle='--')\n",
    "plt.xlabel('time (s)')\n",
    "plt.ylabel('position (m)')\n",
    "plt.ticklabel_format(style='sci', axis='x', scilimits=(0,0))\n",
    "plt.grid(True)\n",
    "plt.show()"
   ]
  },
  {
   "cell_type": "markdown",
   "metadata": {},
   "source": [
    "Rocket equation:\n",
    "\n",
    "mz\" = f(t) - b(z)*z' - c(z)*z'^2 - g(z)"
   ]
  },
  {
   "cell_type": "code",
   "execution_count": null,
   "metadata": {},
   "outputs": [],
   "source": [
    "R = 6400000 # radius of Earth\n",
    "m = 18000 # kg\n",
    "g = 9.81 # m/s^2\n",
    "b = 1.0e4 # kg/s drag coefficient, linear\n",
    "c = 1.0e2 # kg/m drag coefficient, non-linear\n",
    "f = 3.00e5 # thrust kg.m/s^2\n",
    "y0 = 10.0 # initial height\n",
    "v0 = -5.0 # initial velocity\n",
    "\n",
    "def b_(x):\n",
    "    return np.maximum(b - 20.0*x, 0)\n",
    "\n",
    "def c_(x):\n",
    "    return np.maximum(c - 10.0*x, 0)\n",
    "\n",
    "def g_(x):\n",
    "    r_ = x + R\n",
    "    return g*R*R/(r_*r_)\n",
    "\n",
    "def f_(t):\n",
    "    return f#*np.maximum(5 - (t-3)*(t-3), 0)"
   ]
  },
  {
   "cell_type": "code",
   "execution_count": null,
   "metadata": {},
   "outputs": [],
   "source": [
    "def rocket_equation(x, t):\n",
    "    return [x[1], (f_(t)/m - (b_(x[0])/m)*x[1]  - (c_(x[0])/m)*x[1]**2 - g_(x[0]))]"
   ]
  },
  {
   "cell_type": "code",
   "execution_count": null,
   "metadata": {},
   "outputs": [],
   "source": [
    "time = np.arange(0, 10, 1e-3)"
   ]
  },
  {
   "cell_type": "code",
   "execution_count": null,
   "metadata": {},
   "outputs": [],
   "source": [
    "result = odeint(rocket_equation, [y0, v0], time)\n",
    "position, velocity = result[:, 0], result[:, 1]\n",
    "\n",
    "plt.plot(time, position, 'orange', linewidth = 2)\n",
    "plt.xlabel('time (s)')\n",
    "plt.ylabel('position (m)')\n",
    "plt.ticklabel_format(style='sci', axis='x', scilimits=(0,0))\n",
    "plt.grid(True)\n",
    "plt.show()\n",
    "\n",
    "plt.plot(time, velocity, 'blue', linewidth = 2)\n",
    "plt.xlabel('time (s)')\n",
    "plt.ylabel('velocity (m/s)')\n",
    "plt.ticklabel_format(style='sci', axis='x', scilimits=(0,0))\n",
    "plt.grid(True)\n",
    "plt.show()"
   ]
  },
  {
   "cell_type": "code",
   "execution_count": null,
   "metadata": {},
   "outputs": [],
   "source": [
    "_, a = z_derivatives([position, velocity], time)\n",
    "\n",
    "plt.plot(time, a, 'green', linewidth = 2)\n",
    "plt.xlabel('time (s)')\n",
    "plt.ylabel('acceleration (m/s^2)')\n",
    "plt.ticklabel_format(style='sci', axis='x', scilimits=(0,0))\n",
    "plt.grid(True)\n",
    "#plt.axis((0, 3, -3, 4))"
   ]
  }
 ],
 "metadata": {
  "kernelspec": {
   "display_name": "Python 3",
   "language": "python",
   "name": "python3"
  },
  "language_info": {
   "codemirror_mode": {
    "name": "ipython",
    "version": 3
   },
   "file_extension": ".py",
   "mimetype": "text/x-python",
   "name": "python",
   "nbconvert_exporter": "python",
   "pygments_lexer": "ipython3",
   "version": "3.11.4"
  }
 },
 "nbformat": 4,
 "nbformat_minor": 0
}
