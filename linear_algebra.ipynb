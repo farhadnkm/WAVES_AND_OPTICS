{
 "cells": [
  {
   "cell_type": "code",
   "execution_count": null,
   "metadata": {},
   "outputs": [],
   "source": [
    "# imports\n",
    "import numpy as np\n",
    "import matplotlib.pyplot as plt"
   ]
  },
  {
   "cell_type": "markdown",
   "metadata": {},
   "source": [
    "# Vectors, Matrices"
   ]
  },
  {
   "cell_type": "code",
   "execution_count": null,
   "metadata": {},
   "outputs": [],
   "source": [
    "# zeros, ones\n",
    "a = np.zeros((10), dtype=\"float64\")\n",
    "a = np.zeros((10), dtype=np.float64)\n",
    "b = np.ones((550), dtype=\"int32\")\n",
    "c = np.zeros_like(b)"
   ]
  },
  {
   "cell_type": "code",
   "execution_count": null,
   "metadata": {},
   "outputs": [],
   "source": [
    "# linspace\n",
    "a = np.linspace(0, 10.1, 100)\n",
    "b = np.linspace(20, -5, 256)\n",
    "c = np.linspace(np.array([0.0, 1.5, 10.7, -5.6]), 5*np.array([-8.0, 4.3, -2.7, -20.1]), 5)"
   ]
  },
  {
   "cell_type": "code",
   "execution_count": null,
   "metadata": {},
   "outputs": [],
   "source": [
    "# arange\n",
    "a = np.arange(0, 10, 0.1)\n",
    "b = np.arange(-5, 200, 10.2)"
   ]
  },
  {
   "cell_type": "code",
   "execution_count": null,
   "metadata": {},
   "outputs": [],
   "source": [
    "# functions\n",
    "def sin(x):\n",
    "    return np.sin(x)\n",
    "\n",
    "def magnitude(x, y, z):\n",
    "    return np.sqrt(x*x + y*y + z*z)"
   ]
  },
  {
   "cell_type": "code",
   "execution_count": null,
   "metadata": {},
   "outputs": [],
   "source": [
    "# dimenstions and indexing\n",
    "# 0D - scalar\n",
    "# 1D - \n",
    "# 2D\n",
    "# 3D\n",
    "# 4D\n",
    "# 5D\n",
    "#...\n",
    "\n",
    "c = np.linspace(np.array([0.0, 1.5, 10.7, -5.6]), 5*np.array([-8.0, 4.3, -2.7, -20.1]), 5)\n",
    "c[0] or c[0, :]\n",
    "c[-1] or c[0, :]\n",
    "c[:, 3]\n",
    "c[1, -1]\n"
   ]
  },
  {
   "cell_type": "code",
   "execution_count": null,
   "metadata": {},
   "outputs": [],
   "source": [
    "# meshgrid and coordinates\n",
    "x = np.linspace(-10, 10, 100)\n",
    "y = np.linspace(-10, 10, 100)\n",
    "x, y = np.meshgrid(x, y)\n",
    "\n",
    "x = np.linspace(-10, 10, 100)\n",
    "y = np.linspace(-10, 10, 100)\n",
    "z = np.linspace(0, 5, 50)\n",
    "x, y, z = np.meshgrid(x, y, z)"
   ]
  },
  {
   "cell_type": "code",
   "execution_count": null,
   "metadata": {},
   "outputs": [],
   "source": [
    "# 2d vector example\n",
    "# electric field\n",
    "\n",
    "def E_field(q, x0, y0, x, y):\n",
    "    x_ = x - x0\n",
    "    y_ = y - y0\n",
    "    r2 = x_*x_ + y_*y_\n",
    "    return np.stack([q*x_/np.power(r2, 1.5), q*y_/np.power(r2, 1.5)], axis=0)\n",
    "\n",
    "\n",
    "E = E_field(1.0, 3, -5, x, y)\n",
    "Ex = E[0]\n",
    "Ey = E[1]\n",
    "plt.quiver(x, y, Ex, Ey)\n",
    "plt.show()"
   ]
  },
  {
   "cell_type": "code",
   "execution_count": null,
   "metadata": {},
   "outputs": [],
   "source": [
    "# Adding multiple vector fields\n",
    "\n",
    "E = E_field(1.0, 3, -5, x, y) + E_field(-0.7, -2, 6, x, y) + E_field(-0.3, -7, -2, x, y)\n",
    "Ex = E[0]\n",
    "Ey = E[1]\n",
    "E_m = np.sqrt(Ex*Ex + Ey*Ey)\n",
    "\n",
    "fig = plt.figure()\n",
    "ax = fig.add_subplot(111)\n",
    "color = 2 * np.log(E_m)\n",
    "ax.streamplot(x, y, Ex, Ey, color=color, linewidth=1, cmap=plt.cm.inferno,\n",
    "              density=2, arrowstyle='->', arrowsize=1.0)\n",
    "plt.show()\n",
    "\n",
    "\n",
    "plt.imshow(Ex)\n",
    "plt.show()\n",
    "plt.imshow(Ey)\n",
    "plt.show()\n",
    "\n",
    "# why did we ignore k in E-field formula\n",
    "# how to handle singularity"
   ]
  }
 ],
 "metadata": {
  "kernelspec": {
   "display_name": "Python 3 (ipykernel)",
   "language": "python",
   "name": "python3"
  },
  "language_info": {
   "codemirror_mode": {
    "name": "ipython",
    "version": 3
   },
   "file_extension": ".py",
   "mimetype": "text/x-python",
   "name": "python",
   "nbconvert_exporter": "python",
   "pygments_lexer": "ipython3",
   "version": "3.11.4"
  }
 },
 "nbformat": 4,
 "nbformat_minor": 2
}
